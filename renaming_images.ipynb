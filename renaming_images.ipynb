{
  "nbformat": 4,
  "nbformat_minor": 0,
  "metadata": {
    "colab": {
      "provenance": [],
      "gpuType": "T4",
      "authorship_tag": "ABX9TyMqlva6X4B3hwkSmrRVniaq",
      "include_colab_link": true
    },
    "kernelspec": {
      "name": "python3",
      "display_name": "Python 3"
    },
    "language_info": {
      "name": "python"
    },
    "accelerator": "GPU"
  },
  "cells": [
    {
      "cell_type": "markdown",
      "metadata": {
        "id": "view-in-github",
        "colab_type": "text"
      },
      "source": [
        "<a href=\"https://colab.research.google.com/github/TarannumMujawar/ALL-CNN/blob/main/renaming_images.ipynb\" target=\"_parent\"><img src=\"https://colab.research.google.com/assets/colab-badge.svg\" alt=\"Open In Colab\"/></a>"
      ]
    },
    {
      "cell_type": "code",
      "source": [
        "from google.colab import drive"
      ],
      "metadata": {
        "id": "WXrQPMR11xvG"
      },
      "execution_count": 1,
      "outputs": []
    },
    {
      "cell_type": "code",
      "source": [
        "drive.mount('/content/drive')"
      ],
      "metadata": {
        "colab": {
          "base_uri": "https://localhost:8080/"
        },
        "id": "AHwtejFT101Y",
        "outputId": "f484786f-8da7-4940-b1fd-66654ea0efe8"
      },
      "execution_count": 2,
      "outputs": [
        {
          "output_type": "stream",
          "name": "stdout",
          "text": [
            "Mounted at /content/drive\n"
          ]
        }
      ]
    },
    {
      "cell_type": "code",
      "source": [
        "import os\n",
        "\n",
        "def rename_files(directory):\n",
        "    directory = os.path.expanduser(directory)\n",
        "\n",
        "    for index, filename in enumerate(os.listdir(directory), start=1):\n",
        "        new_name = f\"{index}.jpg\"  # Change the extension based on your file types\n",
        "        old_path = os.path.join(directory, filename)\n",
        "        new_path = os.path.join(directory, new_name)\n",
        "\n",
        "        os.rename(old_path, new_path)\n",
        "        print(f\"Renamed {filename} to {new_name}\")\n",
        "\n",
        "# Replace the path with the actual path to your mounted Google Drive directory\n",
        "rename_files('/content/drive/MyDrive/Stratified 1 - Copy')\n"
      ],
      "metadata": {
        "colab": {
          "base_uri": "https://localhost:8080/"
        },
        "id": "qPijB5DYDYQe",
        "outputId": "a96a955e-66c4-4fab-d1be-b6d59e00d198"
      },
      "execution_count": 6,
      "outputs": [
        {
          "output_type": "stream",
          "name": "stdout",
          "text": [
            "Renamed STRATIFIED2_C001H001S0001000002.jpg to 1.jpg\n",
            "Renamed STRATIFIED2_C001H001S0001000027.jpg to 2.jpg\n",
            "Renamed STRATIFIED2_C001H001S0001000022.jpg to 3.jpg\n",
            "Renamed STRATIFIED2_C001H001S0001000001.jpg to 4.jpg\n",
            "Renamed STRATIFIED2_C001H001S0001000006.jpg to 5.jpg\n",
            "Renamed STRATIFIED2_C001H001S0001000015.jpg to 6.jpg\n",
            "Renamed STRATIFIED2_C001H001S0001000010.jpg to 7.jpg\n",
            "Renamed STRATIFIED2_C001H001S0001000013.jpg to 8.jpg\n",
            "Renamed STRATIFIED2_C001H001S0001000023.jpg to 9.jpg\n",
            "Renamed STRATIFIED2_C001H001S0001000021.jpg to 10.jpg\n",
            "Renamed STRATIFIED2_C001H001S0001000029.jpg to 11.jpg\n",
            "Renamed STRATIFIED2_C001H001S0001000018.jpg to 12.jpg\n",
            "Renamed STRATIFIED2_C001H001S0001000007.jpg to 13.jpg\n",
            "Renamed STRATIFIED2_C001H001S0001000024.jpg to 14.jpg\n",
            "Renamed STRATIFIED2_C001H001S0001000020.jpg to 15.jpg\n",
            "Renamed STRATIFIED2_C001H001S0001000028.jpg to 16.jpg\n",
            "Renamed STRATIFIED2_C001H001S0001000016.jpg to 17.jpg\n",
            "Renamed STRATIFIED2_C001H001S0001000008.jpg to 18.jpg\n",
            "Renamed STRATIFIED2_C001H001S0001000025.jpg to 19.jpg\n",
            "Renamed STRATIFIED2_C001H001S0001000019.jpg to 20.jpg\n",
            "Renamed STRATIFIED2_C001H001S0001000005.jpg to 21.jpg\n",
            "Renamed STRATIFIED2_C001H001S0001000011.jpg to 22.jpg\n",
            "Renamed STRATIFIED2_C001H001S0001000026.jpg to 23.jpg\n",
            "Renamed STRATIFIED2_C001H001S0001000017.jpg to 24.jpg\n",
            "Renamed STRATIFIED2_C001H001S0001000003.jpg to 25.jpg\n",
            "Renamed STRATIFIED2_C001H001S0001000012.jpg to 26.jpg\n",
            "Renamed STRATIFIED2_C001H001S0001000009.jpg to 27.jpg\n",
            "Renamed STRATIFIED2_C001H001S0001000030.jpg to 28.jpg\n",
            "Renamed STRATIFIED2_C001H001S0001000004.jpg to 29.jpg\n",
            "Renamed STRATIFIED2_C001H001S0001000014.jpg to 30.jpg\n",
            "Renamed STRATIFIED2_C001H001S0001000038.jpg to 31.jpg\n",
            "Renamed STRATIFIED2_C001H001S0001000036.jpg to 32.jpg\n",
            "Renamed STRATIFIED2_C001H001S0001000049.jpg to 33.jpg\n",
            "Renamed STRATIFIED2_C001H001S0001000033.jpg to 34.jpg\n",
            "Renamed STRATIFIED2_C001H001S0001000047.jpg to 35.jpg\n",
            "Renamed STRATIFIED2_C001H001S0001000035.jpg to 36.jpg\n",
            "Renamed STRATIFIED2_C001H001S0001000043.jpg to 37.jpg\n",
            "Renamed STRATIFIED2_C001H001S0001000051.jpg to 38.jpg\n",
            "Renamed STRATIFIED2_C001H001S0001000031.jpg to 39.jpg\n",
            "Renamed STRATIFIED2_C001H001S0001000048.jpg to 40.jpg\n",
            "Renamed STRATIFIED2_C001H001S0001000039.jpg to 41.jpg\n",
            "Renamed STRATIFIED2_C001H001S0001000044.jpg to 42.jpg\n",
            "Renamed STRATIFIED2_C001H001S0001000045.jpg to 43.jpg\n",
            "Renamed STRATIFIED2_C001H001S0001000041.jpg to 44.jpg\n",
            "Renamed STRATIFIED2_C001H001S0001000032.jpg to 45.jpg\n",
            "Renamed STRATIFIED2_C001H001S0001000046.jpg to 46.jpg\n",
            "Renamed STRATIFIED2_C001H001S0001000037.jpg to 47.jpg\n",
            "Renamed STRATIFIED2_C001H001S0001000034.jpg to 48.jpg\n",
            "Renamed STRATIFIED2_C001H001S0001000042.jpg to 49.jpg\n",
            "Renamed STRATIFIED2_C001H001S0001000040.jpg to 50.jpg\n",
            "Renamed STRATIFIED2_C001H001S0001000050.jpg to 51.jpg\n"
          ]
        }
      ]
    }
  ]
}